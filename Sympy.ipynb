{
  "cells": [
    {
      "cell_type": "markdown",
      "metadata": {
        "id": "1MfgMxTL7VPv"
      },
      "source": [
        "# SymPy - Álgebra en Python"
      ]
    },
    {
      "cell_type": "code",
      "execution_count": 2,
      "metadata": {
        "id": "N1WnD-ee7VP9"
      },
      "outputs": [],
      "source": [
        "# llamamos a sympy y al llamarlo cono * llamamos a todas las funciones dentro de sympy\n",
        "from sympy import *"
      ]
    },
    {
      "cell_type": "markdown",
      "metadata": {
        "id": "LZxRVY_B7VP_"
      },
      "source": [
        "## Symbolic variables"
      ]
    },
    {
      "cell_type": "markdown",
      "metadata": {
        "id": "_5ppRUkn7VQA"
      },
      "source": [
        "En SymPy necesitamos crear símbolos para las variables con las que queremos trabajar. Podemos crear un nuevo símbolo usando la clase`Symbol`:"
      ]
    },
    {
      "cell_type": "code",
      "execution_count": 4,
      "metadata": {
        "id": "pWrKucmb7VQA",
        "outputId": "a9f1228a-3c09-4cd9-94ec-f16a02d7424a",
        "colab": {
          "base_uri": "https://localhost:8080/",
          "height": 38
        }
      },
      "outputs": [
        {
          "output_type": "execute_result",
          "data": {
            "text/plain": [
              "x"
            ],
            "text/latex": "$\\displaystyle x$"
          },
          "metadata": {},
          "execution_count": 4
        }
      ],
      "source": [
        "# Creamos un symbolo con la funcion Symbol extraida de sympy\n",
        "x = Symbol('x')\n",
        "x"
      ]
    },
    {
      "cell_type": "code",
      "execution_count": 10,
      "metadata": {
        "id": "XhMUCphO7VQD",
        "outputId": "76c20527-e309-4e28-f7fb-6bf777f5298f",
        "colab": {
          "base_uri": "https://localhost:8080/",
          "height": 38
        }
      },
      "outputs": [
        {
          "output_type": "execute_result",
          "data": {
            "text/plain": [
              "a"
            ],
            "text/latex": "$\\displaystyle a$"
          },
          "metadata": {},
          "execution_count": 10
        }
      ],
      "source": [
        "a, b, c = symbols(\"a, b, c\")\n",
        "a"
      ]
    },
    {
      "cell_type": "markdown",
      "metadata": {
        "id": "_FFT6qe47VQG"
      },
      "source": [
        "Podemos agregar suposiciones a los símbolos cuando los creamos:"
      ]
    },
    {
      "cell_type": "code",
      "execution_count": 21,
      "metadata": {
        "id": "HLZrwFQ47VQH",
        "outputId": "d3909508-c4ee-44ea-fd7d-7fb4c1c332b1",
        "colab": {
          "base_uri": "https://localhost:8080/",
          "height": 38
        }
      },
      "outputs": [
        {
          "output_type": "execute_result",
          "data": {
            "text/plain": [
              "x"
            ],
            "text/latex": "$\\displaystyle x$"
          },
          "metadata": {},
          "execution_count": 21
        }
      ],
      "source": [
        "# redefinimos x como una variable de numero real\n",
        "x = Symbol('x', real=True)\n",
        "x"
      ]
    },
    {
      "cell_type": "code",
      "execution_count": 22,
      "metadata": {
        "id": "SjDqUGMY7VQI",
        "outputId": "ef0e7fda-fbcd-4a64-a146-c3c4ecdaddf8",
        "colab": {
          "base_uri": "https://localhost:8080/"
        }
      },
      "outputs": [
        {
          "output_type": "execute_result",
          "data": {
            "text/plain": [
              "False"
            ]
          },
          "metadata": {},
          "execution_count": 22
        }
      ],
      "source": [
        "# Al haber definido la x como un numero real al preguntarle si es imaginario se declara falso\n",
        "x.is_imaginary"
      ]
    },
    {
      "cell_type": "code",
      "execution_count": 23,
      "metadata": {
        "id": "4_gvZnR47VQI"
      },
      "outputs": [],
      "source": [
        "# Redefinimos la x como una variable positiva\n",
        "x = Symbol('x', positive=True)"
      ]
    },
    {
      "cell_type": "code",
      "execution_count": 27,
      "metadata": {
        "id": "rwLUdZMA7VQJ",
        "outputId": "996ca967-6506-4e8b-e38b-8d00ece20129",
        "colab": {
          "base_uri": "https://localhost:8080/",
          "height": 37
        }
      },
      "outputs": [
        {
          "output_type": "execute_result",
          "data": {
            "text/plain": [
              "True"
            ],
            "text/latex": "$\\displaystyle \\text{True}$"
          },
          "metadata": {},
          "execution_count": 27
        }
      ],
      "source": [
        "x > 0"
      ]
    },
    {
      "cell_type": "code",
      "source": [
        "x<0"
      ],
      "metadata": {
        "id": "PGfkwAjquRJi",
        "outputId": "9fdc220b-4b43-4871-9ca5-d8c3939789a5",
        "colab": {
          "base_uri": "https://localhost:8080/",
          "height": 37
        }
      },
      "execution_count": 28,
      "outputs": [
        {
          "output_type": "execute_result",
          "data": {
            "text/plain": [
              "False"
            ],
            "text/latex": "$\\displaystyle \\text{False}$"
          },
          "metadata": {},
          "execution_count": 28
        }
      ]
    },
    {
      "cell_type": "markdown",
      "metadata": {
        "id": "ZrKbynzL7VQq"
      },
      "source": [
        "## Manipulaciones Algebraicas"
      ]
    },
    {
      "cell_type": "markdown",
      "metadata": {
        "id": "AmjqzaBB7VQr"
      },
      "source": [
        "### Expand // factor"
      ]
    },
    {
      "cell_type": "code",
      "execution_count": null,
      "metadata": {
        "id": "APqtrrkI7VQs",
        "outputId": "cf6987a3-fcbc-4711-d5a4-4490ed2415d0",
        "colab": {
          "base_uri": "https://localhost:8080/",
          "height": 59
        }
      },
      "outputs": [
        {
          "output_type": "execute_result",
          "data": {
            "text/plain": [
              "(x + 1)*(x + 2)*(x + 3)"
            ],
            "text/latex": "$\\displaystyle \\left(x + 1\\right) \\left(x + 2\\right) \\left(x + 3\\right)$"
          },
          "metadata": {},
          "execution_count": 9
        }
      ],
      "source": [
        "# Definimos una funcion\n",
        " (x+1)*(x+2)*(x+3)"
      ]
    },
    {
      "cell_type": "code",
      "execution_count": null,
      "metadata": {
        "id": "dx9RlN8g7VQs",
        "outputId": "57bcb926-f98a-4e3f-fe27-354135a75a68",
        "colab": {
          "base_uri": "https://localhost:8080/",
          "height": 59
        }
      },
      "outputs": [
        {
          "output_type": "execute_result",
          "data": {
            "text/plain": [
              "x**3 + 6*x**2 + 11*x + 6"
            ],
            "text/latex": "$\\displaystyle x^{3} + 6 x^{2} + 11 x + 6$"
          },
          "metadata": {},
          "execution_count": 10
        }
      ],
      "source": [
        "# Expandimos la funcion para crear una operacion\n",
        "expand((x+1)*(x+2)*(x+3))"
      ]
    },
    {
      "cell_type": "markdown",
      "metadata": {
        "id": "xzH5Kl6M7VQv"
      },
      "source": [
        "Lo opuesto a la expansión del producto es, por supuesto, factorizar. Para factorizar una expresión en SymPy use el `factor`:"
      ]
    },
    {
      "cell_type": "code",
      "execution_count": 29,
      "metadata": {
        "id": "yXNL1rle7VQw",
        "outputId": "cd3fb958-8a8a-440f-f53b-8ea198edde15",
        "colab": {
          "base_uri": "https://localhost:8080/",
          "height": 38
        }
      },
      "outputs": [
        {
          "output_type": "execute_result",
          "data": {
            "text/plain": [
              "(x + 1)*(x + 2)*(x + 3)"
            ],
            "text/latex": "$\\displaystyle \\left(x + 1\\right) \\left(x + 2\\right) \\left(x + 3\\right)$"
          },
          "metadata": {},
          "execution_count": 29
        }
      ],
      "source": [
        "# Usamos la operacion para ver de que funcion salio\n",
        "factor(x**3 + 6 * x**2 + 11*x + 6)"
      ]
    },
    {
      "cell_type": "markdown",
      "metadata": {
        "id": "ukuul-xc7VQw"
      },
      "source": [
        "### Simplify"
      ]
    },
    {
      "cell_type": "code",
      "execution_count": null,
      "metadata": {
        "id": "rYsLwwSl7VQx",
        "outputId": "baa95baf-e985-4254-d1d5-20fc4dc500c6",
        "colab": {
          "base_uri": "https://localhost:8080/",
          "height": 59
        }
      },
      "outputs": [
        {
          "output_type": "execute_result",
          "data": {
            "text/plain": [
              "(x + 1)*(x + 2)*(x + 3)"
            ],
            "text/latex": "$\\displaystyle \\left(x + 1\\right) \\left(x + 2\\right) \\left(x + 3\\right)$"
          },
          "metadata": {},
          "execution_count": 12
        }
      ],
      "source": [
        "# Usamos la funcion simplify para hacer mas simple la funcion para el usuario\n",
        "simplify((x+1)*(x+2)*(x+3))"
      ]
    },
    {
      "cell_type": "code",
      "execution_count": null,
      "metadata": {
        "id": "NpPlwjUv7VQy",
        "outputId": "5d5ea34a-92f7-4f51-a61c-9007a2b0bd88",
        "colab": {
          "base_uri": "https://localhost:8080/",
          "height": 57
        }
      },
      "outputs": [
        {
          "output_type": "execute_result",
          "data": {
            "text/plain": [
              "1"
            ],
            "text/latex": "$\\displaystyle 1$"
          },
          "metadata": {},
          "execution_count": 13
        }
      ],
      "source": [
        "simplify(sin(a)**2 + cos(a)**2)"
      ]
    },
    {
      "cell_type": "code",
      "execution_count": null,
      "metadata": {
        "id": "BWvw5Jhj7VQz",
        "outputId": "dd763a18-c837-44ca-c389-e29eb5b65990",
        "colab": {
          "base_uri": "https://localhost:8080/",
          "height": 76
        }
      },
      "outputs": [
        {
          "output_type": "execute_result",
          "data": {
            "text/plain": [
              "1/tan(x)"
            ],
            "text/latex": "$\\displaystyle \\frac{1}{\\tan{\\left(x \\right)}}$"
          },
          "metadata": {},
          "execution_count": 14
        }
      ],
      "source": [
        "simplify(cos(x)/sin(x))"
      ]
    },
    {
      "cell_type": "markdown",
      "metadata": {
        "id": "4PXwQojE7VQz"
      },
      "source": [
        "### apart // together"
      ]
    },
    {
      "cell_type": "markdown",
      "metadata": {
        "id": "vcRxJ6tG7VQ0"
      },
      "source": [
        "Para manipular expresiones simbólicas de fracciones, usamos `apart` y `together`:"
      ]
    },
    {
      "cell_type": "code",
      "execution_count": null,
      "metadata": {
        "id": "hCDJ9NAu7VQ0"
      },
      "outputs": [],
      "source": [
        "f1 = 1/((a+1)*(a+2))"
      ]
    },
    {
      "cell_type": "code",
      "execution_count": null,
      "metadata": {
        "id": "TWStHNqC7VQ1",
        "outputId": "9f2a4dc5-d505-43a4-94aa-534cb596ce25",
        "colab": {
          "base_uri": "https://localhost:8080/",
          "height": 76
        }
      },
      "outputs": [
        {
          "output_type": "execute_result",
          "data": {
            "text/plain": [
              "1/((a + 1)*(a + 2))"
            ],
            "text/latex": "$\\displaystyle \\frac{1}{\\left(a + 1\\right) \\left(a + 2\\right)}$"
          },
          "metadata": {},
          "execution_count": 16
        }
      ],
      "source": [
        "f1"
      ]
    },
    {
      "cell_type": "code",
      "execution_count": null,
      "metadata": {
        "id": "8sQ3v9ZE7VQ3",
        "outputId": "03a0b6f8-efb6-41f5-f928-e21d3561d43b",
        "colab": {
          "base_uri": "https://localhost:8080/",
          "height": 72
        }
      },
      "outputs": [
        {
          "output_type": "execute_result",
          "data": {
            "text/plain": [
              "-1/(a + 2) + 1/(a + 1)"
            ],
            "text/latex": "$\\displaystyle - \\frac{1}{a + 2} + \\frac{1}{a + 1}$"
          },
          "metadata": {},
          "execution_count": 17
        }
      ],
      "source": [
        "apart(f1)"
      ]
    },
    {
      "cell_type": "code",
      "execution_count": null,
      "metadata": {
        "id": "Y3Ugzn6K7VQ3"
      },
      "outputs": [],
      "source": [
        "f2 = 1/(a+2) + 1/(a+3)"
      ]
    },
    {
      "cell_type": "code",
      "execution_count": null,
      "metadata": {
        "id": "xiPLgN3N7VQ4",
        "outputId": "244b5b15-d3bc-447e-be5a-fa6b43621806",
        "colab": {
          "base_uri": "https://localhost:8080/",
          "height": 72
        }
      },
      "outputs": [
        {
          "output_type": "execute_result",
          "data": {
            "text/plain": [
              "1/(a + 3) + 1/(a + 2)"
            ],
            "text/latex": "$\\displaystyle \\frac{1}{a + 3} + \\frac{1}{a + 2}$"
          },
          "metadata": {},
          "execution_count": 19
        }
      ],
      "source": [
        "f2"
      ]
    },
    {
      "cell_type": "code",
      "execution_count": null,
      "metadata": {
        "id": "j67nZJKE7VQ5",
        "outputId": "43d52394-56a3-4d68-b155-b7dff940bffa",
        "colab": {
          "base_uri": "https://localhost:8080/",
          "height": 76
        }
      },
      "outputs": [
        {
          "output_type": "execute_result",
          "data": {
            "text/plain": [
              "(2*a + 5)/((a + 2)*(a + 3))"
            ],
            "text/latex": "$\\displaystyle \\frac{2 a + 5}{\\left(a + 2\\right) \\left(a + 3\\right)}$"
          },
          "metadata": {},
          "execution_count": 20
        }
      ],
      "source": [
        "together(f2)"
      ]
    },
    {
      "cell_type": "markdown",
      "metadata": {
        "id": "Ruoyngry7VQ6"
      },
      "source": [
        "## Algo de cálculo"
      ]
    },
    {
      "cell_type": "markdown",
      "metadata": {
        "id": "f6mNvbTb7VQ7"
      },
      "source": [
        "### Diferenciación"
      ]
    },
    {
      "cell_type": "markdown",
      "metadata": {
        "id": "r9fjw1S27VQ7"
      },
      "source": [
        "Se usa `diff`. El primer argumento es la expresión de la cual tomar la derivada, y el segundo argumento es el símbolo por el cual tomar la derivada.:"
      ]
    },
    {
      "cell_type": "code",
      "execution_count": 31,
      "metadata": {
        "id": "A0GalJVt7VRB"
      },
      "outputs": [],
      "source": [
        "# Creamos 3 variables\n",
        "x, y, z = symbols(\"x,y,z\")"
      ]
    },
    {
      "cell_type": "code",
      "execution_count": 37,
      "metadata": {
        "id": "NcIX0XfS7VRB",
        "outputId": "f71a387e-00a0-41f2-be47-11e52c4ea5c8",
        "colab": {
          "base_uri": "https://localhost:8080/",
          "height": 38
        }
      },
      "outputs": [
        {
          "output_type": "execute_result",
          "data": {
            "text/plain": [
              "sin(5*x) + cos(3*x**2)"
            ],
            "text/latex": "$\\displaystyle \\sin{\\left(5 x \\right)} + \\cos{\\left(3 x^{2} \\right)}$"
          },
          "metadata": {},
          "execution_count": 37
        }
      ],
      "source": [
        "f = sin(5*x) + cos(3*x**2)\n",
        "f"
      ]
    },
    {
      "cell_type": "markdown",
      "metadata": {
        "id": "9IxbDR0w7VRB"
      },
      "source": [
        "$\\frac{d^3f}{dxdy^2}$"
      ]
    },
    {
      "cell_type": "code",
      "execution_count": 38,
      "metadata": {
        "id": "WcLuaiTR7VRB",
        "outputId": "db4dc54c-6d79-4e3e-9b57-ba8f5fe13d38",
        "colab": {
          "base_uri": "https://localhost:8080/",
          "height": 38
        }
      },
      "outputs": [
        {
          "output_type": "execute_result",
          "data": {
            "text/plain": [
              "-6*x*sin(3*x**2) + 5*cos(5*x)"
            ],
            "text/latex": "$\\displaystyle - 6 x \\sin{\\left(3 x^{2} \\right)} + 5 \\cos{\\left(5 x \\right)}$"
          },
          "metadata": {},
          "execution_count": 38
        }
      ],
      "source": [
        "# Usamos la funcion diff para sacar la derivada de la operacion planteada antes, el ultimo numero es la derivada que buscas\n",
        "diff(f, x, 1)"
      ]
    },
    {
      "cell_type": "markdown",
      "metadata": {
        "id": "lakj2lpd7VRC"
      },
      "source": [
        "## Integración"
      ]
    },
    {
      "cell_type": "code",
      "execution_count": 45,
      "metadata": {
        "id": "Ej0O1uJw7VRC",
        "outputId": "36609e62-894f-4da0-f596-ab0bbce2dd79",
        "colab": {
          "base_uri": "https://localhost:8080/",
          "height": 38
        }
      },
      "outputs": [
        {
          "output_type": "execute_result",
          "data": {
            "text/plain": [
              "sin(5*x)"
            ],
            "text/latex": "$\\displaystyle \\sin{\\left(5 x \\right)}$"
          },
          "metadata": {},
          "execution_count": 45
        }
      ],
      "source": [
        "f2= sin(5*x)\n",
        "f2"
      ]
    },
    {
      "cell_type": "code",
      "execution_count": 46,
      "metadata": {
        "id": "c2Nd5uzb7VRD",
        "outputId": "2e7a4658-b5d9-424a-a39f-c39216d342ab",
        "colab": {
          "base_uri": "https://localhost:8080/",
          "height": 53
        }
      },
      "outputs": [
        {
          "output_type": "execute_result",
          "data": {
            "text/plain": [
              "-cos(5*x)/5"
            ],
            "text/latex": "$\\displaystyle - \\frac{\\cos{\\left(5 x \\right)}}{5}$"
          },
          "metadata": {},
          "execution_count": 46
        }
      ],
      "source": [
        "# integrate es la funcion que usaremos para sacar la integral indefinida\n",
        "integrate(f2, x)"
      ]
    },
    {
      "cell_type": "markdown",
      "metadata": {
        "id": "DuDfKVKk7VRE"
      },
      "source": [
        "Al proporcionar límites para la variable de integración podemos evaluar integrales definidas:"
      ]
    },
    {
      "cell_type": "code",
      "execution_count": 50,
      "metadata": {
        "id": "1-NyOPe57VRE",
        "outputId": "87cdd0ea-9d44-4493-bc29-7a3ff48a9039",
        "colab": {
          "base_uri": "https://localhost:8080/",
          "height": 37
        }
      },
      "outputs": [
        {
          "output_type": "execute_result",
          "data": {
            "text/plain": [
              "0"
            ],
            "text/latex": "$\\displaystyle 0$"
          },
          "metadata": {},
          "execution_count": 50
        }
      ],
      "source": [
        "# Definimos los limites para sacar la integral definida\n",
        "integrate(f2, (x, -1, 1))"
      ]
    },
    {
      "cell_type": "markdown",
      "metadata": {
        "id": "YhcKo9Vo7VRF"
      },
      "source": [
        "e integrales impropias"
      ]
    },
    {
      "cell_type": "code",
      "source": [
        "integrate(ln(x), (x,1,oo))"
      ],
      "metadata": {
        "id": "_x7tQ-Om1dyn",
        "outputId": "b77a730d-bdf0-442d-e733-b4d9780cf3ef",
        "colab": {
          "base_uri": "https://localhost:8080/",
          "height": 37
        }
      },
      "execution_count": 54,
      "outputs": [
        {
          "output_type": "execute_result",
          "data": {
            "text/plain": [
              "oo"
            ],
            "text/latex": "$\\displaystyle \\infty$"
          },
          "metadata": {},
          "execution_count": 54
        }
      ]
    },
    {
      "cell_type": "code",
      "execution_count": 55,
      "metadata": {
        "id": "kOjxUjuH7VRJ",
        "outputId": "5f5862c9-6c2d-49ec-9a8a-e1a0f01bd299",
        "colab": {
          "base_uri": "https://localhost:8080/",
          "height": 37
        }
      },
      "outputs": [
        {
          "output_type": "execute_result",
          "data": {
            "text/plain": [
              "sqrt(pi)"
            ],
            "text/latex": "$\\displaystyle \\sqrt{\\pi}$"
          },
          "metadata": {},
          "execution_count": 55
        }
      ],
      "source": [
        "integrate(exp(-x**2), (x, -oo, oo))"
      ]
    },
    {
      "cell_type": "markdown",
      "metadata": {
        "id": "XUGMnXe47VRM"
      },
      "source": [
        "`oo` es la notación en SymPy para inifinito."
      ]
    },
    {
      "cell_type": "markdown",
      "metadata": {
        "id": "vGgjPDDF7VRm"
      },
      "source": [
        "* http://sympy.org/en/index.html\n",
        "* https://github.com/sympy/sympy\n",
        "* http://live.sympy.org"
      ]
    },
    {
      "cell_type": "code",
      "source": [],
      "metadata": {
        "id": "yeqjGR9L_HEa"
      },
      "execution_count": null,
      "outputs": []
    }
  ],
  "metadata": {
    "kernelspec": {
      "display_name": "Python 2",
      "language": "python",
      "name": "python2"
    },
    "language_info": {
      "codemirror_mode": {
        "name": "ipython",
        "version": 2
      },
      "file_extension": ".py",
      "mimetype": "text/x-python",
      "name": "python",
      "nbconvert_exporter": "python",
      "pygments_lexer": "ipython2",
      "version": "2.7.10"
    },
    "colab": {
      "provenance": []
    }
  },
  "nbformat": 4,
  "nbformat_minor": 0
}